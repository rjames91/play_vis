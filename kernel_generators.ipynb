{
 "cells": [
  {
   "cell_type": "code",
   "execution_count": 7,
   "metadata": {
    "collapsed": false
   },
   "outputs": [],
   "source": [
    "%matplotlib inline\n",
    "%reload_ext autoreload\n",
    "%autoreload 2\n",
    "\n",
    "import numpy as np\n",
    "import pylab as plt\n",
    "from scipy.signal import convolve2d, correlate2d\n",
    "import vision.sim_tools.kernels.center_surround as csgen\n",
    "import vision.sim_tools.kernels.gabor as gabgen\n",
    "from vision.spike_tools.vis import my_imshow\n",
    "\n",
    "def mse(mat0, mat1):\n",
    "    return ((mat0 - mat1)**2).mean()\n"
   ]
  },
  {
   "cell_type": "code",
   "execution_count": 8,
   "metadata": {
    "collapsed": false
   },
   "outputs": [
    {
     "name": "stdout",
     "output_type": "stream",
     "text": [
      "(-0.27527784430974356, 0.82314792971153594)\n",
      "-3.33066907388e-16\n",
      "1.0\n"
     ]
    },
    {
     "data": {
      "image/png": "[encoded data removed]",
      "text/plain": [
       "<matplotlib.figure.Figure at 0x3d16950>"
      ]
     },
     "metadata": {},
     "output_type": "display_data"
    }
   ],
   "source": [
    "kernel_w = 3\n",
    "std_dev = 0.8\n",
    "sd_mult = 6.7\n",
    "csk = csgen.center_surround_kernel(kernel_w, std_dev, sd_mult)\n",
    "print(csk.min(), csk.max())\n",
    "print(csk.sum())\n",
    "print((csk**2).sum())\n",
    "plt.figure()\n",
    "ax = plt.subplot(1,1,1)\n",
    "my_imshow(ax, csk, vmin=-1, vmax=1)\n",
    "plt.show()"
   ]
  },
  {
   "cell_type": "code",
   "execution_count": 9,
   "metadata": {
    "collapsed": false
   },
   "outputs": [
    {
     "name": "stdout",
     "output_type": "stream",
     "text": [
      "[[-0.4442701  0.1942701 -0.4442701]\n",
      " [ 0.1942701  1.         0.1942701]\n",
      " [-0.4442701  0.1942701 -0.4442701]]\n",
      "[[-0.44353082  0.03788534 -0.44353082]\n",
      " [ 0.03788534  1.          0.03788534]\n",
      " [-0.44353082  0.03788534 -0.44353082]]\n"
     ]
    }
   ],
   "source": [
    "cs_corr0 = convolve2d(csk, csk, mode='same', boundary='wrap')\n",
    "print(cs_corr0)\n",
    "cs_corr1 = correlate2d(csk, csk, mode='same')\n",
    "print(cs_corr1)"
   ]
  },
  {
   "cell_type": "code",
   "execution_count": 11,
   "metadata": {
    "collapsed": false
   },
   "outputs": [
    {
     "name": "stdout",
     "output_type": "stream",
     "text": [
      "[0.0, 25.714285714285715, 51.42857142857143, 77.14285714285715, 102.85714285714286, 128.57142857142856, 154.2857142857143]\n",
      "(0.51636978897887598, -0.51636978897887598)\n",
      "(0.50094908231990687, -0.50094908231990687)\n",
      "(0.51593414947506289, -0.51593414947506289)\n",
      "(0.50037115393959797, -0.50037115393959797)\n"
     ]
    },
    {
     "data": {
      "image/png": "[encoded data removed]",
      "text/plain": [
       "<matplotlib.figure.Figure at 0x3d03ad0>"
      ]
     },
     "metadata": {},
     "output_type": "display_data"
    }
   ],
   "source": [
    "# freq = 4.\n",
    "freq = 5.\n",
    "pi_divs = 7\n",
    "pi_frac = np.pi/float(pi_divs)\n",
    "gk = gabgen.multi_gabor(kernel_w, [i*pi_frac for i in range(pi_divs)],\n",
    "                        1.1, freq)\n",
    "print([i*pi_frac*180./np.pi for i in range(pi_divs)])\n",
    "cols = 4\n",
    "rows = len(gk)//cols + 1\n",
    "plt.figure()\n",
    "div = 0\n",
    "for k in gk.keys():\n",
    "    print(gk[k].max(), gk[k].min())\n",
    "#     print(k.sum())\n",
    "#     print((k**2).sum())\n",
    "    div += 1\n",
    "    ax = plt.subplot(rows, cols, div)\n",
    "    my_imshow(ax, gk[k], vmin=-1, vmax=1)#, interpolation='bilinear')\n",
    "plt.show()"
   ]
  },
  {
   "cell_type": "code",
   "execution_count": null,
   "metadata": {
    "collapsed": false
   },
   "outputs": [],
   "source": [
    "cols = 4\n",
    "rows = len(gk)//cols + 1\n",
    "div = 0\n",
    "plt.figure()\n",
    "for k in gk:\n",
    "    kc = convolve2d(k, k, mode='same')\n",
    "    print(kc)\n",
    "    div += 1\n",
    "    ax = plt.subplot(rows, cols, div)\n",
    "    my_imshow(ax, kc, vmin=-1, vmax=1)#, interpolation='bilinear')\n",
    "plt.show()"
   ]
  },
  {
   "cell_type": "code",
   "execution_count": null,
   "metadata": {
    "collapsed": true
   },
   "outputs": [],
   "source": []
  }
 ],
 "metadata": {
  "kernelspec": {
   "display_name": "Python 2",
   "language": "python",
   "name": "python2"
  },
  "language_info": {
   "codemirror_mode": {
    "name": "ipython",
    "version": 2
   },
   "file_extension": ".py",
   "mimetype": "text/x-python",
   "name": "python",
   "nbconvert_exporter": "python",
   "pygments_lexer": "ipython2",
   "version": "2.7.5"
  }
 },
 "nbformat": 4,
 "nbformat_minor": 0
}
