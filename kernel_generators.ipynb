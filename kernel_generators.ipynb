{
 "cells": [
  {
   "cell_type": "code",
   "execution_count": 1,
   "metadata": {
    "collapsed": false
   },
   "outputs": [],
   "source": [
    "%matplotlib inline\n",
    "%reload_ext autoreload\n",
    "%autoreload 2\n",
    "\n",
    "import numpy as np\n",
    "import pylab as plt\n",
    "from scipy.signal import convolve2d, correlate2d\n",
    "import vision.sim_tools.kernels.center_surround as csgen\n",
    "import vision.sim_tools.kernels.gabor as gabgen\n",
    "from vision.spike_tools.vis import my_imshow\n",
    "\n",
    "def mse(mat0, mat1):\n",
    "    return ((mat0 - mat1)**2).mean()\n"
   ]
  },
  {
   "cell_type": "code",
   "execution_count": 3,
   "metadata": {
    "collapsed": false
   },
   "outputs": [
    {
     "name": "stdout",
     "output_type": "stream",
     "text": [
      "(-0.13419575407364331, 0.7152301634276107)\n",
      "7.21644966006e-16\n",
      "1.0\n"
     ]
    },
    {
     "data": {
      "image/png": "[encoded data removed]",
      "text/plain": [
       "<matplotlib.figure.Figure at 0x353dfd0>"
      ]
     },
     "metadata": {},
     "output_type": "display_data"
    }
   ],
   "source": [
    "kernel_w = 5\n",
    "std_dev = 0.8\n",
    "sd_mult = 6.7\n",
    "csk = csgen.center_surround_kernel(kernel_w, std_dev, sd_mult)\n",
    "print(csk.min(), csk.max())\n",
    "print(csk.sum())\n",
    "print((csk**2).sum())\n",
    "plt.figure()\n",
    "ax = plt.subplot(1,1,1)\n",
    "my_imshow(ax, csk)#, vmin=-1, vmax=1)\n",
    "plt.show()"
   ]
  },
  {
   "cell_type": "code",
   "execution_count": 4,
   "metadata": {
    "collapsed": false
   },
   "outputs": [
    {
     "name": "stdout",
     "output_type": "stream",
     "text": [
      "[[-0.38164576 -0.23244889 -0.11982284 -0.23244889 -0.38164576]\n",
      " [-0.23244889  0.19680152  0.51956486  0.19680152 -0.23244889]\n",
      " [-0.11982284  0.51956486  1.          0.51956486 -0.11982284]\n",
      " [-0.23244889  0.19680152  0.51956486  0.19680152 -0.23244889]\n",
      " [-0.38164576 -0.23244889 -0.11982284 -0.23244889 -0.38164576]]\n",
      "[[-0.29134316 -0.25440563 -0.11395082 -0.25440563 -0.29134316]\n",
      " [-0.25440563  0.06701372  0.44505146  0.06701372 -0.25440563]\n",
      " [-0.11395082  0.44505146  1.          0.44505146 -0.11395082]\n",
      " [-0.25440563  0.06701372  0.44505146  0.06701372 -0.25440563]\n",
      " [-0.29134316 -0.25440563 -0.11395082 -0.25440563 -0.29134316]]\n"
     ]
    }
   ],
   "source": [
    "cs_corr0 = convolve2d(csk, csk, mode='same', boundary='wrap')\n",
    "print(cs_corr0)\n",
    "cs_corr1 = correlate2d(csk, csk, mode='same')\n",
    "print(cs_corr1)"
   ]
  },
  {
   "cell_type": "code",
   "execution_count": 24,
   "metadata": {
    "collapsed": false
   },
   "outputs": [
    {
     "name": "stdout",
     "output_type": "stream",
     "text": [
      "6.12323399574e-17\n",
      "[0.0, 45.0, 90.0, 135.0]\n",
      "(0.3017092591873185, -0.3017092591873185)\n",
      "5.55111512313e-17\n",
      "1.0\n",
      "(0.40730711826614086, -0.40730711826614086)\n",
      "-2.22044604925e-16\n",
      "1.0\n",
      "(0.29154768364797307, -0.29154768364797307)\n",
      "3.92239131234e-18\n",
      "1.0\n",
      "(0.29154768364797307, -0.29154768364797307)\n",
      "5.55111512313e-17\n",
      "1.0\n"
     ]
    },
    {
     "data": {
      "image/png": "[encoded data removed]",
      "text/plain": [
       "<matplotlib.figure.Figure at 0x1a96b10>"
      ]
     },
     "metadata": {},
     "output_type": "display_data"
    }
   ],
   "source": [
    "# freq = 4.\n",
    "print( np.cos(90*(np.pi/180.)) )\n",
    "freq = 2.#5.\n",
    "pi_divs = 4\n",
    "# pi_frac = 45.*np.pi/180.\n",
    "pi_frac = np.pi/float(pi_divs)\n",
    "gk = gabgen.multi_gabor(kernel_w, [i*pi_frac for i in range(pi_divs)],\n",
    "                        3., freq)\n",
    "print([i*pi_frac*180./np.pi for i in range(pi_divs)])\n",
    "cols = 4\n",
    "rows = len(gk)//cols + 1\n",
    "plt.figure()\n",
    "div = 0\n",
    "for k in gk.keys():\n",
    "    print(gk[k].max(), gk[k].min())\n",
    "    print(gk[k].sum())\n",
    "    print((gk[k]**2).sum())\n",
    "    div += 1\n",
    "    ax = plt.subplot(rows, cols, div)\n",
    "#     my_imshow(ax, gk[k], vmin=-1, vmax=1)#, interpolation='bilinear')\n",
    "    my_imshow(ax, gk[k], interpolation='bilinear')\n",
    "plt.show()"
   ]
  },
  {
   "cell_type": "code",
   "execution_count": 6,
   "metadata": {
    "collapsed": false
   },
   "outputs": [
    {
     "ename": "ValueError",
     "evalue": "object of too small depth for desired array",
     "output_type": "error",
     "traceback": [
      "\u001b[1;31m---------------------------------------------------------------------------\u001b[0m",
      "\u001b[1;31mValueError\u001b[0m                                Traceback (most recent call last)",
      "\u001b[1;32m<ipython-input-6-3e2bc92c5bbc>\u001b[0m in \u001b[0;36m<module>\u001b[1;34m()\u001b[0m\n\u001b[0;32m      4\u001b[0m \u001b[0mplt\u001b[0m\u001b[1;33m.\u001b[0m\u001b[0mfigure\u001b[0m\u001b[1;33m(\u001b[0m\u001b[1;33m)\u001b[0m\u001b[1;33m\u001b[0m\u001b[0m\n\u001b[0;32m      5\u001b[0m \u001b[1;32mfor\u001b[0m \u001b[0mk\u001b[0m \u001b[1;32min\u001b[0m \u001b[0mgk\u001b[0m\u001b[1;33m:\u001b[0m\u001b[1;33m\u001b[0m\u001b[0m\n\u001b[1;32m----> 6\u001b[1;33m     \u001b[0mkc\u001b[0m \u001b[1;33m=\u001b[0m \u001b[0mconvolve2d\u001b[0m\u001b[1;33m(\u001b[0m\u001b[0mk\u001b[0m\u001b[1;33m,\u001b[0m \u001b[0mk\u001b[0m\u001b[1;33m,\u001b[0m \u001b[0mmode\u001b[0m\u001b[1;33m=\u001b[0m\u001b[1;34m'same'\u001b[0m\u001b[1;33m)\u001b[0m\u001b[1;33m\u001b[0m\u001b[0m\n\u001b[0m\u001b[0;32m      7\u001b[0m     \u001b[1;32mprint\u001b[0m\u001b[1;33m(\u001b[0m\u001b[0mkc\u001b[0m\u001b[1;33m)\u001b[0m\u001b[1;33m\u001b[0m\u001b[0m\n\u001b[0;32m      8\u001b[0m     \u001b[0mdiv\u001b[0m \u001b[1;33m+=\u001b[0m \u001b[1;36m1\u001b[0m\u001b[1;33m\u001b[0m\u001b[0m\n",
      "\u001b[1;32m/usr/lib64/python2.7/site-packages/scipy/signal/signaltools.pyc\u001b[0m in \u001b[0;36mconvolve2d\u001b[1;34m(in1, in2, mode, boundary, fillvalue)\u001b[0m\n\u001b[0;32m    490\u001b[0m         \u001b[0mwarnings\u001b[0m\u001b[1;33m.\u001b[0m\u001b[0msimplefilter\u001b[0m\u001b[1;33m(\u001b[0m\u001b[1;34m'ignore'\u001b[0m\u001b[1;33m,\u001b[0m \u001b[0mnp\u001b[0m\u001b[1;33m.\u001b[0m\u001b[0mComplexWarning\u001b[0m\u001b[1;33m)\u001b[0m\u001b[1;33m\u001b[0m\u001b[0m\n\u001b[0;32m    491\u001b[0m         \u001b[1;31m# FIXME: some cast generates a warning here\u001b[0m\u001b[1;33m\u001b[0m\u001b[1;33m\u001b[0m\u001b[0m\n\u001b[1;32m--> 492\u001b[1;33m         \u001b[0mout\u001b[0m \u001b[1;33m=\u001b[0m \u001b[0msigtools\u001b[0m\u001b[1;33m.\u001b[0m\u001b[0m_convolve2d\u001b[0m\u001b[1;33m(\u001b[0m\u001b[0min1\u001b[0m\u001b[1;33m,\u001b[0m \u001b[0min2\u001b[0m\u001b[1;33m,\u001b[0m \u001b[1;36m1\u001b[0m\u001b[1;33m,\u001b[0m \u001b[0mval\u001b[0m\u001b[1;33m,\u001b[0m \u001b[0mbval\u001b[0m\u001b[1;33m,\u001b[0m \u001b[0mfillvalue\u001b[0m\u001b[1;33m)\u001b[0m\u001b[1;33m\u001b[0m\u001b[0m\n\u001b[0m\u001b[0;32m    493\u001b[0m \u001b[1;33m\u001b[0m\u001b[0m\n\u001b[0;32m    494\u001b[0m     \u001b[1;32mreturn\u001b[0m \u001b[0mout\u001b[0m\u001b[1;33m\u001b[0m\u001b[0m\n",
      "\u001b[1;31mValueError\u001b[0m: object of too small depth for desired array"
     ]
    },
    {
     "data": {
      "text/plain": [
       "<matplotlib.figure.Figure at 0x4566850>"
      ]
     },
     "metadata": {},
     "output_type": "display_data"
    }
   ],
   "source": [
    "cols = 4\n",
    "rows = len(gk)//cols + 1\n",
    "div = 0\n",
    "plt.figure()\n",
    "for k in gk:\n",
    "    kc = convolve2d(k, k, mode='same')\n",
    "    print(kc)\n",
    "    div += 1\n",
    "    ax = plt.subplot(rows, cols, div)\n",
    "    my_imshow(ax, kc, vmin=-1, vmax=1)#, interpolation='bilinear')\n",
    "plt.show()"
   ]
  },
  {
   "cell_type": "code",
   "execution_count": null,
   "metadata": {
    "collapsed": true
   },
   "outputs": [],
   "source": []
  }
 ],
 "metadata": {
  "kernelspec": {
   "display_name": "Python 2",
   "language": "python",
   "name": "python2"
  },
  "language_info": {
   "codemirror_mode": {
    "name": "ipython",
    "version": 2
   },
   "file_extension": ".py",
   "mimetype": "text/x-python",
   "name": "python",
   "nbconvert_exporter": "python",
   "pygments_lexer": "ipython2",
   "version": "2.7.5"
  }
 },
 "nbformat": 4,
 "nbformat_minor": 0
}
