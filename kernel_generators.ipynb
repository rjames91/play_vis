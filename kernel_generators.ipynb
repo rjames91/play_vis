{
 "cells": [
  {
   "cell_type": "code",
   "execution_count": 25,
   "metadata": {
    "collapsed": false
   },
   "outputs": [],
   "source": [
    "%matplotlib inline\n",
    "%reload_ext autoreload\n",
    "%autoreload 2\n",
    "\n",
    "import numpy as np\n",
    "import pylab as plt\n",
    "from scipy.signal import convolve2d, correlate2d\n",
    "import vision.sim_tools.kernels.center_surround as csgen\n",
    "import vision.sim_tools.kernels.gabor as gabgen\n",
    "from vision.spike_tools.vis import my_imshow\n",
    "\n",
    "def mse(mat0, mat1):\n",
    "    return ((mat0 - mat1)**2).mean()\n"
   ]
  },
  {
   "cell_type": "code",
   "execution_count": 26,
   "metadata": {
    "collapsed": false
   },
   "outputs": [
    {
     "name": "stdout",
     "output_type": "stream",
     "text": [
      "(-0.27527784430974345, 0.82314792971153594)\n",
      "5.55111512313e-16\n",
      "1.0\n"
     ]
    },
    {
     "data": {
      "image/png": "[encoded data removed]",
      "text/plain": [
       "<matplotlib.figure.Figure at 0x7efd9b1f5150>"
      ]
     },
     "metadata": {},
     "output_type": "display_data"
    }
   ],
   "source": [
    "kernel_w = 3\n",
    "std_dev = 0.8\n",
    "sd_mult = 6.7\n",
    "csk = csgen.center_surround_kernel(kernel_w, std_dev, sd_mult)\n",
    "print(csk.min(), csk.max())\n",
    "print(csk.sum())\n",
    "print((csk**2).sum())\n",
    "plt.figure()\n",
    "ax = plt.subplot(1,1,1)\n",
    "my_imshow(ax, csk, vmin=-1, vmax=1)\n",
    "plt.show()"
   ]
  },
  {
   "cell_type": "code",
   "execution_count": 28,
   "metadata": {
    "collapsed": false
   },
   "outputs": [
    {
     "name": "stdout",
     "output_type": "stream",
     "text": [
      "[[-0.4442701  0.1942701 -0.4442701]\n",
      " [ 0.1942701  1.         0.1942701]\n",
      " [-0.4442701  0.1942701 -0.4442701]]\n",
      "[[-0.44353082  0.03788534 -0.44353082]\n",
      " [ 0.03788534  1.          0.03788534]\n",
      " [-0.44353082  0.03788534 -0.44353082]]\n"
     ]
    }
   ],
   "source": [
    "cs_corr0 = convolve2d(csk, csk, mode='same', boundary='wrap')\n",
    "print(cs_corr0)\n",
    "cs_corr1 = correlate2d(csk, csk, mode='same')\n",
    "print(cs_corr1)"
   ]
  },
  {
   "cell_type": "code",
   "execution_count": 32,
   "metadata": {
    "collapsed": false
   },
   "outputs": [
    {
     "name": "stdout",
     "output_type": "stream",
     "text": [
      "[0.0, 25.714285714285715, 51.42857142857143, 77.14285714285715, 102.85714285714286, 128.57142857142856, 154.2857142857143]\n",
      "(0.51636978897887598, -0.51636978897887598)\n",
      "(0.5151886961319283, -0.5151886961319283)\n",
      "(0.51626972558344064, -0.51626972558344064)\n",
      "(0.49375364526200438, -0.49375364526200438)\n",
      "(0.49375364526200499, -0.49375364526200499)\n",
      "(0.5151886961319283, -0.5151886961319283)\n"
     ]
    },
    {
     "data": {
      "image/png": "[encoded data removed]",
      "text/plain": [
       "<matplotlib.figure.Figure at 0x7efd9a829f50>"
      ]
     },
     "metadata": {},
     "output_type": "display_data"
    }
   ],
   "source": [
    "# freq = 4.\n",
    "freq = 4.\n",
    "pi_divs = 7\n",
    "pi_frac = np.pi/float(pi_divs)\n",
    "gk = gabgen.multi_gabor(kernel_w, [i*pi_frac for i in range(pi_divs)],\n",
    "                        1.1, freq)\n",
    "print([i*pi_frac*180./np.pi for i in range(pi_divs)])\n",
    "cols = 4\n",
    "rows = len(gk)//cols + 1\n",
    "plt.figure()\n",
    "div = 0\n",
    "for k in gk:\n",
    "    print(k.max(), k.min())\n",
    "#     print(k.sum())\n",
    "#     print((k**2).sum())\n",
    "    div += 1\n",
    "    ax = plt.subplot(rows, cols, div)\n",
    "    my_imshow(ax, k, vmin=-1, vmax=1)#, interpolation='bilinear')\n",
    "plt.show()"
   ]
  },
  {
   "cell_type": "code",
   "execution_count": 30,
   "metadata": {
    "collapsed": false
   },
   "outputs": [
    {
     "name": "stdout",
     "output_type": "stream",
     "text": [
      "[[ 0.         -0.70553914  0.        ]\n",
      " [ 0.         -1.          0.        ]\n",
      " [ 0.         -0.70553914  0.        ]]\n",
      "[[-0.09944505  0.69074442  0.09944505]\n",
      " [-0.00646632 -1.         -0.00646632]\n",
      " [ 0.09944505  0.69074442 -0.09944505]]\n",
      "[[  4.04441260e-02   1.18642887e-04  -4.04441260e-02]\n",
      " [ -7.03234670e-01  -1.00000000e+00  -7.03234670e-01]\n",
      " [ -4.04441260e-02   1.18642887e-04   4.04441260e-02]]\n",
      "[[-0.47273095 -0.19711927  0.47273095]\n",
      " [-0.11425152 -1.         -0.11425152]\n",
      " [ 0.47273095 -0.19711927 -0.47273095]]\n",
      "[[ 0.47273095 -0.19711927 -0.47273095]\n",
      " [-0.11425152 -1.         -0.11425152]\n",
      " [-0.47273095 -0.19711927  0.47273095]]\n",
      "[[ 0.09944505  0.69074442 -0.09944505]\n",
      " [-0.00646632 -1.         -0.00646632]\n",
      " [-0.09944505  0.69074442  0.09944505]]\n"
     ]
    },
    {
     "data": {
      "image/png": "[encoded data removed]",
      "text/plain": [
       "<matplotlib.figure.Figure at 0x7efd9a835410>"
      ]
     },
     "metadata": {},
     "output_type": "display_data"
    }
   ],
   "source": [
    "cols = 4\n",
    "rows = len(gk)//cols + 1\n",
    "div = 0\n",
    "plt.figure()\n",
    "for k in gk:\n",
    "    kc = convolve2d(k, k, mode='same')\n",
    "    print(kc)\n",
    "    div += 1\n",
    "    ax = plt.subplot(rows, cols, div)\n",
    "    my_imshow(ax, kc, vmin=-1, vmax=1)#, interpolation='bilinear')\n",
    "plt.show()"
   ]
  },
  {
   "cell_type": "code",
   "execution_count": null,
   "metadata": {
    "collapsed": true
   },
   "outputs": [],
   "source": []
  }
 ],
 "metadata": {
  "kernelspec": {
   "display_name": "Python 2",
   "language": "python2",
   "name": "python2"
  },
  "language_info": {
   "codemirror_mode": {
    "name": "ipython",
    "version": 2
   },
   "file_extension": ".py",
   "mimetype": "text/x-python",
   "name": "python",
   "nbconvert_exporter": "python",
   "pygments_lexer": "ipython2",
   "version": "2.7.12"
  }
 },
 "nbformat": 4,
 "nbformat_minor": 0
}
