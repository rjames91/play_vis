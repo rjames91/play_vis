{
 "cells": [
  {
   "cell_type": "code",
   "execution_count": 70,
   "metadata": {
    "collapsed": false
   },
   "outputs": [],
   "source": [
    "%matplotlib inline\n",
    "%reload_ext autoreload\n",
    "%autoreload 2\n",
    "\n",
    "import numpy as np\n",
    "import pylab as plt\n",
    "import sim_tools.connectors.random_connectors as rconn\n",
    "from spike_tools.vis import my_imshow\n",
    "from sim_tools.vis import plot_connector_3d, plot_conv_wta_connector_3d\n",
    "\n",
    "from mpl_toolkits.mplot3d import axes3d, Axes3D"
   ]
  },
  {
   "cell_type": "code",
   "execution_count": 79,
   "metadata": {
    "collapsed": false
   },
   "outputs": [
    {
     "data": {
      "text/plain": [
       "[1, 2, 3]"
      ]
     },
     "execution_count": 79,
     "metadata": {},
     "output_type": "execute_result"
    }
   ],
   "source": [
    "imgw = 4\n",
    "imgh = 4\n",
    "half_imgw = imgw//2\n",
    "half_imgh = imgh//2\n",
    "convw = 3\n",
    "nrn_pconv = 3\n",
    "in_w = (2./3.)/(convw**2)\n",
    "wtaw_e = 2.\n",
    "wtaw_i = -2.\n",
    "\n",
    "colstep=2\n",
    "rowstep=2\n",
    "col_start=0\n",
    "row_start=0\n",
    "range(1, 1 + 3)"
   ]
  },
  {
   "cell_type": "code",
   "execution_count": 81,
   "metadata": {
    "collapsed": false
   },
   "outputs": [
    {
     "name": "stdout",
     "output_type": "stream",
     "text": [
      "0.0740740740741\n",
      "[0, 1, 2, 4, 5, 6, 8, 9, 10]\n",
      "\n",
      "Excitatory connections\n",
      "(0, 0, 0.024054828011022919, 1)\n",
      "(1, 0, 0.096274053794745629, 1)\n",
      "(2, 0, 0.15390571927789992, 1)\n",
      "(4, 0, 0.13633314832540411, 1)\n",
      "(5, 0, 0.064225804303324946, 1)\n",
      "(6, 0, 0.046428524942755581, 1)\n",
      "(8, 0, 0.027417640290048527, 1)\n",
      "(9, 0, 0.081132969580441167, 1)\n",
      "(10, 0, 0.053726106890135281, 1)\n",
      "(0, 1, 0.07474553881510039, 1)\n",
      "(1, 1, 0.063136588255819248, 1)\n",
      "(2, 1, 0.049161212274459, 1)\n",
      "(4, 1, 0.10276588466329681, 1)\n",
      "(5, 1, 0.079369251397566079, 1)\n",
      "(6, 1, 0.09451111809507437, 1)\n",
      "(8, 1, 0.13771602196085497, 1)\n",
      "(9, 1, 0.085706543100505947, 1)\n",
      "(10, 1, 0.14125242192660903, 1)\n",
      "(0, 2, 0.051694918906895836, 1)\n",
      "(1, 2, 0.031271798483664667, 1)\n",
      "(2, 2, 0.074631386337956351, 1)\n",
      "(4, 2, 0.015885149669294177, 1)\n",
      "(5, 2, 0.06021884920390011, 1)\n",
      "(6, 2, 0.080043705833135623, 1)\n",
      "(8, 2, 0.00022245396514457283, 1)\n",
      "(9, 2, 0.041970584192486587, 1)\n",
      "(10, 2, 0.0092898544847727083, 1)\n",
      "\n",
      "WTA exc connections\n",
      "(0, 0, 2.0, 1.0)\n",
      "(1, 1, 2.0, 1.0)\n",
      "(2, 2, 2.0, 1.0)\n",
      "\n",
      "WTA inh connections\n",
      "(0, 1, -2.0, 1.0)\n",
      "(0, 2, -2.0, 1.0)\n",
      "(1, 0, -2.0, 1.0)\n",
      "(1, 2, -2.0, 1.0)\n",
      "(2, 0, -2.0, 1.0)\n",
      "(2, 1, -2.0, 1.0)\n"
     ]
    }
   ],
   "source": [
    "conv_cons = rconn.convolution_wta(imgw, imgh, convw, nrn_pconv, \n",
    "                                  in_w, wtaw_e, wtaw_i, conn_prob=0.5,\n",
    "                                  all2all=True, col_step=colstep,\n",
    "                                  row_step=rowstep)\n",
    "\n",
    "print(\"\\nExcitatory connections\")\n",
    "for c in conv_cons[0]:\n",
    "    print(c)\n",
    "print(\"\\nWTA exc connections\")\n",
    "for c in conv_cons[1]:\n",
    "    print(c)\n",
    "print(\"\\nWTA inh connections\")\n",
    "for c in conv_cons[2]:\n",
    "    print(c)"
   ]
  },
  {
   "cell_type": "code",
   "execution_count": 84,
   "metadata": {
    "collapsed": false
   },
   "outputs": [
    {
     "name": "stdout",
     "output_type": "stream",
     "text": [
      "\n",
      "Excitatory connections\n",
      "(1, 1, 0.021697341510996497, 1)\n",
      "(1, 2, 0.032164103939689138, 1)\n",
      "(2, 1, 0.069835897063840455, 1)\n",
      "(2, 2, 0.062780746464427856, 1)\n",
      "(4, 0, 0.071034109994932135, 1)\n",
      "(5, 1, 0.056265287787947281, 1)\n",
      "(5, 2, 0.067460478266559543, 1)\n",
      "(6, 0, 0.023863661083934291, 1)\n",
      "(6, 1, 0.087448382009796502, 1)\n",
      "(8, 0, 0.032123911040236944, 1)\n",
      "(10, 0, 0.065807883060089639, 1)\n",
      "(10, 1, 0.0328137924357393, 1)\n",
      "\n",
      "WTA exc connections\n",
      "(0, 0, 2.0, 1.0)\n",
      "(1, 1, 2.0, 1.0)\n",
      "(2, 2, 2.0, 1.0)\n",
      "\n",
      "WTA inh connections\n",
      "(0, 1, -2.0, 1.0)\n",
      "(0, 2, -2.0, 1.0)\n",
      "(1, 0, -2.0, 1.0)\n",
      "(1, 2, -2.0, 1.0)\n",
      "(2, 0, -2.0, 1.0)\n",
      "(2, 1, -2.0, 1.0)\n"
     ]
    }
   ],
   "source": [
    "conv_cons = rconn.convolution_wta(imgw, imgh, convw, nrn_pconv, \n",
    "                                  in_w, wtaw_e, wtaw_i, conn_prob=0.5,\n",
    "                                  all2all=False, col_step=colstep,\n",
    "                                  row_step=rowstep)\n",
    "\n",
    "print(\"\\nExcitatory connections\")\n",
    "for c in conv_cons[0]:\n",
    "    print(c)\n",
    "print(\"\\nWTA exc connections\")\n",
    "for c in conv_cons[1]:\n",
    "    print(c)\n",
    "print(\"\\nWTA inh connections\")\n",
    "for c in conv_cons[2]:\n",
    "    print(c)\n"
   ]
  },
  {
   "cell_type": "code",
   "execution_count": null,
   "metadata": {
    "collapsed": false
   },
   "outputs": [],
   "source": []
  },
  {
   "cell_type": "code",
   "execution_count": null,
   "metadata": {
    "collapsed": false
   },
   "outputs": [],
   "source": []
  }
 ],
 "metadata": {
  "kernelspec": {
   "display_name": "Python 2",
   "language": "python",
   "name": "python2"
  },
  "language_info": {
   "codemirror_mode": {
    "name": "ipython",
    "version": 2
   },
   "file_extension": ".py",
   "mimetype": "text/x-python",
   "name": "python",
   "nbconvert_exporter": "python",
   "pygments_lexer": "ipython2",
   "version": "2.7.5"
  }
 },
 "nbformat": 4,
 "nbformat_minor": 0
}
